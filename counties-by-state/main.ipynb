{
 "cells": [
  {
   "cell_type": "code",
   "execution_count": 1,
   "id": "40f7f064",
   "metadata": {},
   "outputs": [],
   "source": [
    "import numpy as np\n",
    "import matplotlib.pyplot as plt\n",
    "import pandas as pd\n",
    "import geopandas as gpd\n",
    "\n",
    "import urllib\n",
    "import tempfile"
   ]
  },
  {
   "cell_type": "code",
   "execution_count": 2,
   "id": "05aca9d5",
   "metadata": {},
   "outputs": [],
   "source": [
    "%load_ext autoreload\n",
    "%autoreload 2"
   ]
  },
  {
   "cell_type": "code",
   "execution_count": 3,
   "id": "49ed928e",
   "metadata": {},
   "outputs": [],
   "source": [
    "data = pd.read_csv(\"1976-2020-president.csv\")"
   ]
  },
  {
   "cell_type": "code",
   "execution_count": 4,
   "id": "39ebbab6",
   "metadata": {
    "scrolled": false
   },
   "outputs": [],
   "source": [
    "def by_year_and_party(year, party):\n",
    "    return data[(data.party_simplified == party) & (data.year == year)].groupby(\"state\").max()\n",
    "def by_year(year):\n",
    "    dem = by_year_and_party(year, \"DEMOCRAT\")\n",
    "    gop = by_year_and_party(year, \"REPUBLICAN\")\n",
    "    assert (gop.totalvotes == dem.totalvotes).all()\n",
    "    margins = (dem.candidatevotes - gop.candidatevotes) / gop.totalvotes\n",
    "    return margins"
   ]
  },
  {
   "cell_type": "code",
   "execution_count": 5,
   "id": "fd28dd7d",
   "metadata": {},
   "outputs": [],
   "source": [
    "margin_2004, margin_2020 = by_year(2004), by_year(2020)"
   ]
  },
  {
   "cell_type": "code",
   "execution_count": 6,
   "id": "9d5ed266",
   "metadata": {},
   "outputs": [],
   "source": [
    "ca_2020 = pd.read_html(\"https://en.wikipedia.org/wiki/2020_United_States_presidential_election_in_California\")\n",
    "[ca_2020] = [x for x in ca_2020 if list(x)[0] == (\"County\", \"County\")]\n",
    "ca_2020 = ca_2020.set_index((\"County\", \"County\"))\n",
    "ca_2020_dem, ca_2020_gop = [\n",
    "    ca_2020[cand, \"%\"].apply(lambda x: float(x.replace(\"%\", \"\")) / 100)\n",
    "    for cand in (\"Joe BidenDemocratic\", \"Donald TrumpRepublican\")\n",
    "]\n",
    "ca_2020 = ca_2020_dem - ca_2020_gop\n",
    "ca_2020 = ca_2020.sort_index()"
   ]
  },
  {
   "cell_type": "code",
   "execution_count": 7,
   "id": "f6d44f9b",
   "metadata": {},
   "outputs": [],
   "source": [
    "ca_2004 = pd.read_html(\"https://en.wikipedia.org/wiki/2004_United_States_presidential_election_in_California\")\n",
    "[ca_2004] = [x for x in ca_2004 if list(x)[0] == \"County\"]\n",
    "ca_2004 = ca_2004.set_index(\"County\")\n",
    "ca_2004_dem, ca_2004_gop = [\n",
    "    ca_2004[cand].apply(lambda x: float(x.replace(\"%\", \"\")) / 100)\n",
    "    for cand in (\"Kerry\", \"Bush\")\n",
    "]\n",
    "ca_2004 = ca_2004_dem - ca_2004_gop\n",
    "ca_2004 = ca_2004.sort_index()"
   ]
  },
  {
   "cell_type": "code",
   "execution_count": 8,
   "id": "1329ef72",
   "metadata": {},
   "outputs": [],
   "source": [
    "assert (ca_2004.index  == ca_2020.index).all()\n",
    "assert (margin_2004.index  == margin_2020.index).all()\n",
    "\n",
    "ca_swing = ca_2020 - ca_2004\n",
    "margin_swing = margin_2020 - margin_2004"
   ]
  },
  {
   "cell_type": "code",
   "execution_count": 9,
   "id": "598674e6",
   "metadata": {},
   "outputs": [],
   "source": [
    "import us"
   ]
  },
  {
   "cell_type": "code",
   "execution_count": 10,
   "id": "96b3d5c2",
   "metadata": {},
   "outputs": [],
   "source": [
    "def construct_shapefile(shapefile, key, weight_margin):\n",
    "    county_to_state = {}\n",
    "    for county in ca_2004.index:\n",
    "        idx = np.mean(\n",
    "            [\n",
    "                np.abs(ca_2004[county] - margin_2004),\n",
    "                np.abs(ca_2020[county] - margin_2020),\n",
    "                weight_margin * np.abs(ca_swing[county] - margin_swing),\n",
    "            ],\n",
    "            0,\n",
    "        ).argmin()\n",
    "        county_to_state[county] = us.states.lookup(margin_2020.index[idx].title()).abbr\n",
    "    shapefile[key] = shapefile.NAME.apply(lambda x: county_to_state[x])"
   ]
  },
  {
   "cell_type": "code",
   "execution_count": 11,
   "id": "91d6f0ab",
   "metadata": {},
   "outputs": [],
   "source": [
    "shapefile = gpd.read_file(\"./shapefile/CA_Counties_TIGER2016.shp\")\n",
    "construct_shapefile(shapefile, \"by_swing\", 10000)\n",
    "construct_shapefile(shapefile, \"by_margin\", 0)\n",
    "construct_shapefile(shapefile, \"hybrid\", 2)\n",
    "shapefile.to_file(\"out/out.shp\")"
   ]
  },
  {
   "cell_type": "code",
   "execution_count": null,
   "id": "20c51386",
   "metadata": {},
   "outputs": [],
   "source": []
  }
 ],
 "metadata": {
  "kernelspec": {
   "display_name": "Python 3",
   "language": "python",
   "name": "python3"
  },
  "language_info": {
   "codemirror_mode": {
    "name": "ipython",
    "version": 3
   },
   "file_extension": ".py",
   "mimetype": "text/x-python",
   "name": "python",
   "nbconvert_exporter": "python",
   "pygments_lexer": "ipython3",
   "version": "3.8.8"
  }
 },
 "nbformat": 4,
 "nbformat_minor": 5
}
