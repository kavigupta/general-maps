{
 "cells": [
  {
   "cell_type": "code",
   "execution_count": 1,
   "id": "23be5db6",
   "metadata": {},
   "outputs": [
    {
     "data": {
      "application/vnd.jupyter.widget-view+json": {
       "model_id": "cb5742da098c467ebe1694f075f68746",
       "version_major": 2,
       "version_minor": 0
      },
      "text/plain": [
       "  0%|          | 0/100000 [00:00<?, ?it/s]"
      ]
     },
     "metadata": {},
     "output_type": "display_data"
    },
    {
     "data": {
      "application/vnd.jupyter.widget-view+json": {
       "model_id": "d60d6e2c5f874601907ed58677c5dbf5",
       "version_major": 2,
       "version_minor": 0
      },
      "text/plain": [
       "  0%|          | 0/100000 [00:00<?, ?it/s]"
      ]
     },
     "metadata": {},
     "output_type": "display_data"
    }
   ],
   "source": [
    "from collections import  Counter\n",
    "\n",
    "import numpy as np\n",
    "\n",
    "import tqdm.auto as tqdm\n",
    "\n",
    "rng = np.random.RandomState(0)\n",
    "\n",
    "times = 100_000\n",
    "\n",
    "def sample_without_replacement(total, sample_size):\n",
    "    while True:\n",
    "        res = rng.choice(total, size=sample_size)\n",
    "        if len(set(res)) < len(res):\n",
    "            continue\n",
    "        return res\n",
    "\n",
    "audit_2017 = [sample_without_replacement(153_000_000, 5000) for _ in tqdm.trange(times)]\n",
    "audit_2019 = [sample_without_replacement(154_000_000, 8000) for _ in tqdm.trange(times)]"
   ]
  },
  {
   "cell_type": "code",
   "execution_count": 2,
   "id": "a70bb2a3",
   "metadata": {},
   "outputs": [
    {
     "data": {
      "application/vnd.jupyter.widget-view+json": {
       "model_id": "6c61e063090848a4aa40b52ef14c3cee",
       "version_major": 2,
       "version_minor": 0
      },
      "text/plain": [
       "  0%|          | 0/100000 [00:00<?, ?it/s]"
      ]
     },
     "metadata": {},
     "output_type": "display_data"
    }
   ],
   "source": [
    "intersects = [np.intersect1d(x, y) for x, y in zip(tqdm.tqdm(audit_2017), audit_2019)]"
   ]
  },
  {
   "cell_type": "code",
   "execution_count": 3,
   "id": "6fec19d0",
   "metadata": {},
   "outputs": [
    {
     "data": {
      "text/plain": [
       "Counter({0: 77323, 1: 19912, 2: 2512, 3: 236, 4: 17})"
      ]
     },
     "execution_count": 3,
     "metadata": {},
     "output_type": "execute_result"
    }
   ],
   "source": [
    "Counter([len(i) for i in intersects])"
   ]
  },
  {
   "cell_type": "code",
   "execution_count": 15,
   "id": "1fa24bce",
   "metadata": {},
   "outputs": [
    {
     "data": {
      "text/plain": [
       "Counter({0: 99851, 1: 149})"
      ]
     },
     "execution_count": 15,
     "metadata": {},
     "output_type": "execute_result"
    }
   ],
   "source": [
    "Counter([len(i[i < 1_000_000]) for i in intersects])"
   ]
  },
  {
   "cell_type": "code",
   "execution_count": null,
   "id": "8cf6765b",
   "metadata": {},
   "outputs": [],
   "source": []
  }
 ],
 "metadata": {
  "kernelspec": {
   "display_name": "Python 3",
   "language": "python",
   "name": "python3"
  },
  "language_info": {
   "codemirror_mode": {
    "name": "ipython",
    "version": 3
   },
   "file_extension": ".py",
   "mimetype": "text/x-python",
   "name": "python",
   "nbconvert_exporter": "python",
   "pygments_lexer": "ipython3",
   "version": "3.7.10"
  }
 },
 "nbformat": 4,
 "nbformat_minor": 5
}
