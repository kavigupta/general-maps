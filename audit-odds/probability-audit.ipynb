{
 "cells": [
  {
   "cell_type": "code",
   "execution_count": 1,
   "id": "23be5db6",
   "metadata": {},
   "outputs": [
    {
     "data": {
      "application/vnd.jupyter.widget-view+json": {
       "model_id": "cea67a8769414446bd26e9a436be2d22",
       "version_major": 2,
       "version_minor": 0
      },
      "text/plain": [
       "  0%|          | 0/100000 [00:00<?, ?it/s]"
      ]
     },
     "metadata": {},
     "output_type": "display_data"
    },
    {
     "data": {
      "application/vnd.jupyter.widget-view+json": {
       "model_id": "528ea93c0f954606b916da7540bb168d",
       "version_major": 2,
       "version_minor": 0
      },
      "text/plain": [
       "  0%|          | 0/100000 [00:00<?, ?it/s]"
      ]
     },
     "metadata": {},
     "output_type": "display_data"
    }
   ],
   "source": [
    "from collections import  Counter\n",
    "\n",
    "import numpy as np\n",
    "\n",
    "import tqdm.auto as tqdm\n",
    "\n",
    "rng = np.random.RandomState(0)\n",
    "\n",
    "times = 100_000\n",
    "\n",
    "def sample_without_replacement(total, sample_size):\n",
    "    while True:\n",
    "        res = rng.choice(total, size=sample_size)\n",
    "        if len(set(res)) < len(res):\n",
    "            continue\n",
    "        return res\n",
    "\n",
    "audit_2017 = [sample_without_replacement(153_000_000, 5000) for _ in tqdm.trange(times)]\n",
    "audit_2019 = [sample_without_replacement(154_000_000, 8000) for _ in tqdm.trange(times)]"
   ]
  },
  {
   "cell_type": "code",
   "execution_count": 3,
   "id": "2a5d5a5b",
   "metadata": {},
   "outputs": [
    {
     "data": {
      "application/vnd.jupyter.widget-view+json": {
       "model_id": "16b672bb837d49c2aeae744be4b067ec",
       "version_major": 2,
       "version_minor": 0
      },
      "text/plain": [
       "  0%|          | 0/100000 [00:00<?, ?it/s]"
      ]
     },
     "metadata": {},
     "output_type": "display_data"
    },
    {
     "data": {
      "application/vnd.jupyter.widget-view+json": {
       "model_id": "b914822650994948897aff1897b11f94",
       "version_major": 2,
       "version_minor": 0
      },
      "text/plain": [
       "  0%|          | 0/100000 [00:00<?, ?it/s]"
      ]
     },
     "metadata": {},
     "output_type": "display_data"
    }
   ],
   "source": [
    "\"\"\"\n",
    "Imagine that the people from 1 to 153e6 are ranked in how prominent they\n",
    "are as anti-trump figures in the media.\n",
    "\n",
    "We can use the minumum rank to identify the most prominent anti-trump person\n",
    "audited in each of 2017 and 2019\n",
    "\"\"\"\n",
    "\n",
    "def most_anti_trump_audited(audit):\n",
    "    return np.array([x.min() for x in tqdm.tqdm(audit)])\n",
    "\n",
    "anti_trump_2017 = most_anti_trump_audited(audit_2017)\n",
    "anti_trump_2019 = most_anti_trump_audited(audit_2019)"
   ]
  },
  {
   "cell_type": "code",
   "execution_count": 5,
   "id": "621fb07d",
   "metadata": {},
   "outputs": [],
   "source": [
    "\"\"\"\n",
    "We can then take the maximum of these two to get the most prominent anti-trump audited pair\n",
    "between the two audits.\n",
    "\n",
    "(e.g., if #110 is the most prominent anti-trump person audited in 2017 and #129 is the most\n",
    "prominent anti-trump person audited in 2019, our pair has a score of 129)\n",
    "\"\"\"\n",
    "\n",
    "anti_trump_both = np.maximum(anti_trump_2017, anti_trump_2019)"
   ]
  },
  {
   "cell_type": "code",
   "execution_count": 13,
   "id": "4e307f4d",
   "metadata": {},
   "outputs": [
    {
     "name": "stdout",
     "output_type": "stream",
     "text": [
      "Probability of both being in the top 200 most prominent anti-trump figures 0.009%\n",
      "Probability of both being in the top 500 most prominent anti-trump figures 0.041%\n",
      "Probability of both being in the top 1000 most prominent anti-trump figures 0.165%\n",
      "Probability of both being in the top 2000 most prominent anti-trump figures 0.611%\n",
      "Probability of both being in the top 5000 most prominent anti-trump figures 3.430%\n"
     ]
    }
   ],
   "source": [
    "for k in 200, 500, 1000, 2000, 5000:\n",
    "    print(f\"Probability of both being in the top {k} most prominent anti-trump figures {(anti_trump_both < k).mean():.3%}\")"
   ]
  },
  {
   "cell_type": "code",
   "execution_count": null,
   "id": "8cf6765b",
   "metadata": {},
   "outputs": [],
   "source": []
  }
 ],
 "metadata": {
  "kernelspec": {
   "display_name": "Python 3",
   "language": "python",
   "name": "python3"
  },
  "language_info": {
   "codemirror_mode": {
    "name": "ipython",
    "version": 3
   },
   "file_extension": ".py",
   "mimetype": "text/x-python",
   "name": "python",
   "nbconvert_exporter": "python",
   "pygments_lexer": "ipython3",
   "version": "3.7.10"
  }
 },
 "nbformat": 4,
 "nbformat_minor": 5
}
