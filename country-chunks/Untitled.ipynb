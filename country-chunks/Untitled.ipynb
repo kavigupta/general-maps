{
 "cells": [
  {
   "cell_type": "code",
   "execution_count": 19,
   "id": "a53fd978",
   "metadata": {},
   "outputs": [],
   "source": [
    "import json\n",
    "import numpy as np\n",
    "import pandas as pd\n",
    "import matplotlib.pyplot as plt"
   ]
  },
  {
   "cell_type": "code",
   "execution_count": 12,
   "id": "7f8c2a1b",
   "metadata": {},
   "outputs": [],
   "source": [
    "%matplotlib inline"
   ]
  },
  {
   "cell_type": "code",
   "execution_count": 34,
   "id": "ee0556fc",
   "metadata": {},
   "outputs": [],
   "source": [
    "medians = pd.DataFrame(json.load(open(\"out/congressional_test.json\"))).median() * 100"
   ]
  },
  {
   "cell_type": "code",
   "execution_count": 35,
   "id": "c9d47e06",
   "metadata": {},
   "outputs": [
    {
     "data": {
      "text/plain": [
       "<matplotlib.lines.Line2D at 0x7fbc6f5ed910>"
      ]
     },
     "execution_count": 35,
     "metadata": {},
     "output_type": "execute_result"
    },
    {
     "data": {
      "image/png": "[encoded data removed]",
      "text/plain": [
       "<Figure size 432x288 with 1 Axes>"
      ]
     },
     "metadata": {
      "needs_background": "light"
     },
     "output_type": "display_data"
    }
   ],
   "source": [
    "a = np.floor(min(medians))\n",
    "b = np.ceil(max(medians)) + 1\n",
    "plt.hist(medians, bins=np.arange(a, b, 0.1))\n",
    "plt.axvline(4.55)"
   ]
  },
  {
   "cell_type": "code",
   "execution_count": null,
   "id": "c53463c6",
   "metadata": {},
   "outputs": [],
   "source": []
  }
 ],
 "metadata": {
  "kernelspec": {
   "display_name": "Python 3",
   "language": "python",
   "name": "python3"
  },
  "language_info": {
   "codemirror_mode": {
    "name": "ipython",
    "version": 3
   },
   "file_extension": ".py",
   "mimetype": "text/x-python",
   "name": "python",
   "nbconvert_exporter": "python",
   "pygments_lexer": "ipython3",
   "version": "3.7.10"
  }
 },
 "nbformat": 4,
 "nbformat_minor": 5
}
